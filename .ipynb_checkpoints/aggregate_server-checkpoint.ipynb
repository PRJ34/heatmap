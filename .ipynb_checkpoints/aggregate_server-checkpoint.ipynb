{
 "cells": [
  {
   "cell_type": "code",
   "execution_count": 75,
   "metadata": {},
   "outputs": [],
   "source": [
    "import pandas as pd\n",
    "import csv\n",
    "import numpy as np"
   ]
  },
  {
   "cell_type": "code",
   "execution_count": 73,
   "metadata": {},
   "outputs": [],
   "source": [
    "def aggregate_server():\n",
    "    df = pd.read_csv(\"./data_for_aggregation/map copy \" + str(0) + \".csv\",header=None)\n",
    "    for i in range(1,100):\n",
    "        df_read = pd.read_csv(\"./data_for_aggregation/map copy \" + str(i) + \".csv\",header=None)\n",
    "        df = df.add(df_read)\n",
    "\n"
   ]
  },
  {
   "cell_type": "code",
   "execution_count": 76,
   "metadata": {},
   "outputs": [
    {
     "ename": "NameError",
     "evalue": "name 'step_long' is not defined",
     "output_type": "error",
     "traceback": [
      "\u001b[0;31m---------------------------------------------------------------------------\u001b[0m",
      "\u001b[0;31mNameError\u001b[0m                                 Traceback (most recent call last)",
      "\u001b[0;32m<ipython-input-76-e0e46271826c>\u001b[0m in \u001b[0;36m<module>\u001b[0;34m\u001b[0m\n\u001b[1;32m      4\u001b[0m \u001b[0mLATITUDE_MAX\u001b[0m \u001b[0;34m=\u001b[0m \u001b[0;36m45.9\u001b[0m\u001b[0;34m\u001b[0m\u001b[0;34m\u001b[0m\u001b[0m\n\u001b[1;32m      5\u001b[0m \u001b[0mNB\u001b[0m \u001b[0;34m=\u001b[0m \u001b[0;36m60\u001b[0m\u001b[0;34m\u001b[0m\u001b[0;34m\u001b[0m\u001b[0m\n\u001b[0;32m----> 6\u001b[0;31m \u001b[0mlongs\u001b[0m \u001b[0;34m=\u001b[0m \u001b[0mnp\u001b[0m\u001b[0;34m.\u001b[0m\u001b[0marange\u001b[0m\u001b[0;34m(\u001b[0m\u001b[0mLONGITUDE_MIN\u001b[0m\u001b[0;34m,\u001b[0m\u001b[0mLONGITUDE_MAX\u001b[0m\u001b[0;34m,\u001b[0m \u001b[0mstep_long\u001b[0m\u001b[0;34m)\u001b[0m\u001b[0;34m\u001b[0m\u001b[0;34m\u001b[0m\u001b[0m\n\u001b[0m\u001b[1;32m      7\u001b[0m \u001b[0mlats\u001b[0m \u001b[0;34m=\u001b[0m \u001b[0mnp\u001b[0m\u001b[0;34m.\u001b[0m\u001b[0marange\u001b[0m\u001b[0;34m(\u001b[0m\u001b[0mLATITUDE_MIN\u001b[0m\u001b[0;34m,\u001b[0m\u001b[0mLATITUDE_MAX\u001b[0m\u001b[0;34m,\u001b[0m \u001b[0mstep_lat\u001b[0m\u001b[0;34m)\u001b[0m\u001b[0;34m\u001b[0m\u001b[0;34m\u001b[0m\u001b[0m\n\u001b[1;32m      8\u001b[0m \u001b[0mdict_long\u001b[0m \u001b[0;34m=\u001b[0m \u001b[0;34m{\u001b[0m\u001b[0mv\u001b[0m\u001b[0;34m:\u001b[0m\u001b[0mround\u001b[0m\u001b[0;34m(\u001b[0m\u001b[0mk\u001b[0m\u001b[0;34m,\u001b[0m \u001b[0;36m5\u001b[0m\u001b[0;34m)\u001b[0m \u001b[0;32mfor\u001b[0m \u001b[0mv\u001b[0m\u001b[0;34m,\u001b[0m \u001b[0mk\u001b[0m \u001b[0;32min\u001b[0m \u001b[0menumerate\u001b[0m\u001b[0;34m(\u001b[0m\u001b[0mlongs\u001b[0m\u001b[0;34m)\u001b[0m\u001b[0;34m}\u001b[0m\u001b[0;34m\u001b[0m\u001b[0;34m\u001b[0m\u001b[0m\n",
      "\u001b[0;31mNameError\u001b[0m: name 'step_long' is not defined"
     ]
    }
   ],
   "source": [
    "LONGITUDE_MIN = 4.8\n",
    "LONGITUDE_MAX = 4.93\n",
    "LATITUDE_MIN = 45.6\n",
    "LATITUDE_MAX = 45.9\n",
    "step_long = (LONGITUDE_MAX - LONGITUDE_MIN) / NB\n",
    "step_lat = (LATITUDE_MAX - LATITUDE_MIN) / NB / 3\n",
    "NB = 60\n",
    "longs = np.arange(LONGITUDE_MIN,LONGITUDE_MAX, step_long)\n",
    "lats = np.arange(LATITUDE_MIN,LATITUDE_MAX, step_lat)\n",
    "dict_long = {v:round(k, 5) for v, k in enumerate(longs)}\n",
    "dict_lat = {v:round(k, 5) for v, k in enumerate(lats)}"
   ]
  },
  {
   "cell_type": "code",
   "execution_count": null,
   "metadata": {},
   "outputs": [],
   "source": []
  }
 ],
 "metadata": {
  "kernelspec": {
   "display_name": "heatmap",
   "language": "python",
   "name": "yhua"
  },
  "language_info": {
   "codemirror_mode": {
    "name": "ipython",
    "version": 3
   },
   "file_extension": ".py",
   "mimetype": "text/x-python",
   "name": "python",
   "nbconvert_exporter": "python",
   "pygments_lexer": "ipython3",
   "version": "3.7.5"
  }
 },
 "nbformat": 4,
 "nbformat_minor": 2
}

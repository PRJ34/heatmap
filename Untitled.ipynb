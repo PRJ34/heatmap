{
 "cells": [
  {
   "cell_type": "code",
   "execution_count": 1,
   "metadata": {},
   "outputs": [],
   "source": [
    "from keplergl import KeplerGl\n",
    "import pandas as pd\n",
    "import json\n",
    "import numpy as np\n",
    "import random\n",
    "\n"
   ]
  },
  {
   "cell_type": "code",
   "execution_count": 49,
   "metadata": {},
   "outputs": [],
   "source": [
    "LONGITUDE_MIN = 4.8\n",
    "LONGITUDE_MAX = 4.93\n",
    "LATITUDE_MIN = 45.6\n",
    "LATITUDE_MAX = 45.9\n",
    "NB = 60\n",
    "my_map = pd.DataFrame(columns=['longitude','latitude','height'])\n",
    "longs = []\n",
    "lats = []"
   ]
  },
  {
   "cell_type": "code",
   "execution_count": 2,
   "metadata": {},
   "outputs": [],
   "source": [
    "df1 = pd.read_csv(\"./data/data1.csv\")\n",
    "df2 = pd.read_csv(\"./data/data2.csv\")"
   ]
  },
  {
   "cell_type": "markdown",
   "metadata": {},
   "source": [
    "###  interval function\n"
   ]
  },
  {
   "cell_type": "code",
   "execution_count": 3,
   "metadata": {},
   "outputs": [],
   "source": [
    "def retrive_from_interval(df, interval):\n",
    "    (begin_interval, end_interval) = interval\n",
    "    new_df = pd.DataFrame(columns=['id', 'timestamp', 'longitude','latitude'])\n",
    "    for index, row in df.iterrows():\n",
    "        if row['timestamp'] < end_interval and row['timestamp'] >= begin_interval:\n",
    "            new_df.loc[len(new_df)] = [int(row['id']), int(row['timestamp']), row['longitude'], row['latitude']]\n",
    "        if row['timestamp'] > end_interval and row['timestamp'] > begin_interval:\n",
    "            break\n",
    "    return new_df\n",
    "            \n",
    "            "
   ]
  },
  {
   "cell_type": "markdown",
   "metadata": {},
   "source": [
    "### aggregate!"
   ]
  },
  {
   "cell_type": "code",
   "execution_count": 4,
   "metadata": {},
   "outputs": [],
   "source": [
    "def aggregate_points(df, NB):\n",
    "    step_long = (LONGITUDE_MAX - LONGITUDE_MIN) / NB\n",
    "    step_lat = (LATITUDE_MAX - LATITUDE_MIN) / NB / 3\n",
    "    longs = np.arange(LONGITUDE_MIN,LONGITUDE_MAX, step_long)\n",
    "    lats = np.arange(LATITUDE_MIN,LATITUDE_MAX, step_lat)\n",
    "    to_nearest_point(df, longs, lats, step_long, step_lat)\n",
    "\n",
    "    return df\n",
    "    "
   ]
  },
  {
   "cell_type": "code",
   "execution_count": 5,
   "metadata": {},
   "outputs": [],
   "source": [
    "def to_nearest_point(df, longs, lats, step_long, step_lat):\n",
    "    for index, row in df.iterrows():\n",
    "        row['longitude'] = row['longitude'] - ((row['longitude'] - longs[0]) % step_long)\n",
    "        row['latitude'] = row['latitude'] - ((row['latitude'] - lats[0]) % step_lat)\n",
    "    return df"
   ]
  },
  {
   "cell_type": "markdown",
   "metadata": {},
   "source": [
    "### set time interval"
   ]
  },
  {
   "cell_type": "code",
   "execution_count": 6,
   "metadata": {},
   "outputs": [],
   "source": [
    "points_interval = retrive_from_interval(df1,[1418550959,1422480000])"
   ]
  },
  {
   "cell_type": "code",
   "execution_count": 7,
   "metadata": {},
   "outputs": [
    {
     "name": "stdout",
     "output_type": "stream",
     "text": [
      "User Guide: https://github.com/keplergl/kepler.gl/blob/master/docs/keplergl-jupyter/user-guide.md\n",
      "Map saved to points_time_interval.html!\n"
     ]
    },
    {
     "data": {
      "application/vnd.jupyter.widget-view+json": {
       "model_id": "1abaf9e0021b43959b4054f5415bad85",
       "version_major": 2,
       "version_minor": 0
      },
      "text/plain": [
       "KeplerGl(data={'data_1':        id     timestamp  longitude   latitude\n",
       "0     1.0  1.418551e+09   4.880468  45.…"
      ]
     },
     "metadata": {},
     "output_type": "display_data"
    }
   ],
   "source": [
    "map_3 = KeplerGl(height=400, data={'data_1': points_interval})\n",
    "map_3.save_to_html(file_name='points_time_interval.html')\n",
    "map_3"
   ]
  },
  {
   "cell_type": "markdown",
   "metadata": {},
   "source": [
    "### aggregate the points"
   ]
  },
  {
   "cell_type": "code",
   "execution_count": 8,
   "metadata": {},
   "outputs": [],
   "source": [
    "aggregation = aggregate_points(points_interval, NB)"
   ]
  },
  {
   "cell_type": "code",
   "execution_count": 9,
   "metadata": {},
   "outputs": [
    {
     "name": "stdout",
     "output_type": "stream",
     "text": [
      "User Guide: https://github.com/keplergl/kepler.gl/blob/master/docs/keplergl-jupyter/user-guide.md\n"
     ]
    },
    {
     "data": {
      "application/vnd.jupyter.widget-view+json": {
       "model_id": "0e9f1cfe776349f496bb70f880930f00",
       "version_major": 2,
       "version_minor": 0
      },
      "text/plain": [
       "KeplerGl(data={'data_1':        id     timestamp  longitude   latitude\n",
       "0     1.0  1.418551e+09   4.880167  45.…"
      ]
     },
     "metadata": {},
     "output_type": "display_data"
    }
   ],
   "source": [
    "map_4 = KeplerGl(height=400, data={'data_1': aggregation})\n",
    "map_4"
   ]
  },
  {
   "cell_type": "code",
   "execution_count": 10,
   "metadata": {},
   "outputs": [
    {
     "name": "stdout",
     "output_type": "stream",
     "text": [
      "Map saved to final_map.html!\n"
     ]
    }
   ],
   "source": [
    "map_4.save_to_html(file_name='final_map.html')"
   ]
  },
  {
   "cell_type": "code",
   "execution_count": 53,
   "metadata": {},
   "outputs": [
    {
     "data": {
      "text/plain": [
       "Index(['longitude', 'latitude', 'height'], dtype='object')"
      ]
     },
     "execution_count": 53,
     "metadata": {},
     "output_type": "execute_result"
    }
   ],
   "source": [
    "serie = aggregation.groupby(['longitude','latitude']).size()\n",
    "\n",
    "n_df = serie.reset_index(name = 'height')\n"
   ]
  },
  {
   "cell_type": "markdown",
   "metadata": {},
   "source": [
    "### create noise"
   ]
  },
  {
   "cell_type": "code",
   "execution_count": 11,
   "metadata": {},
   "outputs": [
    {
     "data": {
      "text/plain": [
       "[[-1, -1, -1], [0, -1, 0], [0, -1, -1]]"
      ]
     },
     "execution_count": 11,
     "metadata": {},
     "output_type": "execute_result"
    }
   ],
   "source": [
    "random.seed(a = 2)\n",
    "[[random.randrange(-1,1) for i in range(3)] for j in range(3)]"
   ]
  },
  {
   "cell_type": "code",
   "execution_count": 12,
   "metadata": {},
   "outputs": [
    {
     "data": {
      "text/plain": [
       "[[-1, -1, -1], [0, -1, 0], [0, -1, -1]]"
      ]
     },
     "execution_count": 12,
     "metadata": {},
     "output_type": "execute_result"
    }
   ],
   "source": [
    "random.seed(a = 2)\n",
    "[[random.randrange(-1,1) for i in range(3)] for j in range(3)]"
   ]
  },
  {
   "cell_type": "code",
   "execution_count": null,
   "metadata": {},
   "outputs": [],
   "source": []
  }
 ],
 "metadata": {
  "kernelspec": {
   "display_name": "heatmap",
   "language": "python",
   "name": "yhua"
  },
  "language_info": {
   "codemirror_mode": {
    "name": "ipython",
    "version": 3
   },
   "file_extension": ".py",
   "mimetype": "text/x-python",
   "name": "python",
   "nbconvert_exporter": "python",
   "pygments_lexer": "ipython3",
   "version": "3.7.5"
  }
 },
 "nbformat": 4,
 "nbformat_minor": 4
}

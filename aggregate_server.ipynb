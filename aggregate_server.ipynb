{
 "cells": [
  {
   "cell_type": "code",
   "execution_count": 1,
   "metadata": {},
   "outputs": [],
   "source": [
    "import pandas as pd\n",
    "import csv\n",
    "import numpy as np"
   ]
  },
  {
   "cell_type": "code",
   "execution_count": 2,
   "metadata": {},
   "outputs": [],
   "source": [
    "def construct_df():\n",
    "    df = pd.read_csv(\"./data_for_aggregation/map copy \" + str(1) + \".csv\",header=None)\n",
    "    for i in range(2,41):\n",
    "        df_read = pd.read_csv(\"./data_for_aggregation/map copy \" + str(i) + \".csv\",header=None)\n",
    "        df = df.add(df_read)\n",
    "    return df\n"
   ]
  },
  {
   "cell_type": "code",
   "execution_count": 3,
   "metadata": {},
   "outputs": [],
   "source": [
    "LONGITUDE_MIN = 4.8\n",
    "LONGITUDE_MAX = 4.93\n",
    "LATITUDE_MIN = 45.6\n",
    "LATITUDE_MAX = 45.9\n",
    "NB = 60\n",
    "step_long = (LONGITUDE_MAX - LONGITUDE_MIN) / NB\n",
    "step_lat = (LATITUDE_MAX - LATITUDE_MIN) / NB / 3\n",
    "longs = np.arange(LONGITUDE_MIN,LONGITUDE_MAX, step_long)\n",
    "lats = np.arange(LATITUDE_MIN,LATITUDE_MAX, step_lat)\n",
    "dict_long = {v:round(k, 5) for v, k in enumerate(longs)}\n",
    "dict_lat = {v:round(k, 5) for v, k in enumerate(lats)}"
   ]
  },
  {
   "cell_type": "code",
   "execution_count": 4,
   "metadata": {},
   "outputs": [],
   "source": [
    "def make_map(df):\n",
    "    new_df = pd.DataFrame(columns=['longitude','latitude','height'])\n",
    "    for indexR, row in df.iterrows():\n",
    "        for indexC, value in row.items():\n",
    "            if value != 0:\n",
    "                    new_df.loc[len(new_df)] = dict_long[indexR], dict_lat[indexC],value\n",
    "    return new_df"
   ]
  },
  {
   "cell_type": "code",
   "execution_count": 5,
   "metadata": {},
   "outputs": [],
   "source": [
    "df = construct_df()\n"
   ]
  },
  {
   "cell_type": "code",
   "execution_count": 6,
   "metadata": {},
   "outputs": [],
   "source": [
    "final_df = make_map(df)"
   ]
  },
  {
   "cell_type": "code",
   "execution_count": 7,
   "metadata": {},
   "outputs": [],
   "source": [
    "def export_map(df):\n",
    "    with open(\"server_map.csv\", \"w\", newline=\"\") as myfile:\n",
    "        wr = csv.writer(myfile)\n",
    "        wr.writerows(df)\n",
    "    print(\"map exported to server_map.csv\")"
   ]
  },
  {
   "cell_type": "code",
   "execution_count": 8,
   "metadata": {},
   "outputs": [
    {
     "name": "stdout",
     "output_type": "stream",
     "text": [
      "User Guide: https://github.com/keplergl/kepler.gl/blob/master/docs/keplergl-jupyter/user-guide.md\n"
     ]
    },
    {
     "data": {
      "application/vnd.jupyter.widget-view+json": {
       "model_id": "614a3be05139426689088a7cd664dc02",
       "version_major": 2,
       "version_minor": 0
      },
      "text/plain": [
       "KeplerGl(data={'data_1':      longitude  latitude  height\n",
       "0      4.80000  45.60000     2.0\n",
       "1      4.81733  45.…"
      ]
     },
     "metadata": {},
     "output_type": "display_data"
    }
   ],
   "source": [
    "from keplergl import KeplerGl\n",
    "map_3 = KeplerGl(height=400, data={'data_1': final_df})\n",
    "map_3"
   ]
  },
  {
   "cell_type": "code",
   "execution_count": null,
   "metadata": {},
   "outputs": [],
   "source": []
  }
 ],
 "metadata": {
  "kernelspec": {
   "display_name": "heatmap",
   "language": "python",
   "name": "yhua"
  },
  "language_info": {
   "codemirror_mode": {
    "name": "ipython",
    "version": 3
   },
   "file_extension": ".py",
   "mimetype": "text/x-python",
   "name": "python",
   "nbconvert_exporter": "python",
   "pygments_lexer": "ipython3",
   "version": "3.7.5"
  }
 },
 "nbformat": 4,
 "nbformat_minor": 2
}
